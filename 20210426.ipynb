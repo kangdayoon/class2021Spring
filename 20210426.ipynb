{
  "nbformat": 4,
  "nbformat_minor": 0,
  "metadata": {
    "colab": {
      "name": "20210426.ipynb",
      "provenance": [],
      "authorship_tag": "ABX9TyNnYwIZVs0Van63NvD4nnUT",
      "include_colab_link": true
    },
    "kernelspec": {
      "name": "python3",
      "display_name": "Python 3"
    },
    "language_info": {
      "name": "python"
    }
  },
  "cells": [
    {
      "cell_type": "markdown",
      "metadata": {
        "id": "view-in-github",
        "colab_type": "text"
      },
      "source": [
        "<a href=\"https://colab.research.google.com/github/kangdayoon/class2021Spring/blob/main/20210426.ipynb\" target=\"_parent\"><img src=\"https://colab.research.google.com/assets/colab-badge.svg\" alt=\"Open In Colab\"/></a>"
      ]
    },
    {
      "cell_type": "code",
      "metadata": {
        "id": "Ss0fdsYbxzV7"
      },
      "source": [
        "%matplotlib inline\n",
        "from matplotlib import pyplot as plt\n",
        "import IPython.display as ipd\n",
        "import numpy as np\n",
        "from scipy.signal import lfilter"
      ],
      "execution_count": 4,
      "outputs": []
    },
    {
      "cell_type": "markdown",
      "metadata": {
        "id": "ahtHaOlyyZci"
      },
      "source": [
        "#Phasor"
      ]
    },
    {
      "cell_type": "code",
      "metadata": {
        "id": "xJQq5-5SygK-"
      },
      "source": [
        "#parameter setting\n",
        "amp = 1          # range [0.0, 1.0]\n",
        "sr = 15000       # sampling rate, Hz\n",
        "dur = 0.5        # in seconds\n",
        "freq = 300.0     # sine frequency, Hz"
      ],
      "execution_count": 9,
      "outputs": []
    }
  ]
}
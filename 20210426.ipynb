{
  "nbformat": 4,
  "nbformat_minor": 0,
  "metadata": {
    "colab": {
      "name": "20210426.ipynb",
      "provenance": [],
      "authorship_tag": "ABX9TyNn5voK4KEiX6ucc0p3uk54",
      "include_colab_link": true
    },
    "kernelspec": {
      "name": "python3",
      "display_name": "Python 3"
    },
    "language_info": {
      "name": "python"
    }
  },
  "cells": [
    {
      "cell_type": "markdown",
      "metadata": {
        "id": "view-in-github",
        "colab_type": "text"
      },
      "source": [
        "<a href=\"https://colab.research.google.com/github/kangdayoon/class2021Spring/blob/main/20210426.ipynb\" target=\"_parent\"><img src=\"https://colab.research.google.com/assets/colab-badge.svg\" alt=\"Open In Colab\"/></a>"
      ]
    },
    {
      "cell_type": "code",
      "metadata": {
        "id": "Ss0fdsYbxzV7"
      },
      "source": [
        "%matplotlib inline\n",
        "from matplotlib import pyplot as plt\n",
        "import IPython.display as ipd\n",
        "import numpy as np\n",
        "from scipy.signal import lfilter"
      ],
      "execution_count": 3,
      "outputs": []
    },
    {
      "cell_type": "markdown",
      "metadata": {
        "id": "ahtHaOlyyZci"
      },
      "source": [
        "#Phasor"
      ]
    },
    {
      "cell_type": "code",
      "metadata": {
        "id": "xJQq5-5SygK-"
      },
      "source": [
        "#parameter setting\n",
        "amp = 1    \n",
        "sr = 15000      \n",
        "dur = 0.5        \n",
        "freq = 300.0    "
      ],
      "execution_count": 4,
      "outputs": []
    },
    {
      "cell_type": "code",
      "metadata": {
        "id": "v7LjQwLNdTCZ"
      },
      "source": [
        "t=np.arange(1,sr*dur+1)/sr"
      ],
      "execution_count": 5,
      "outputs": []
    },
    {
      "cell_type": "code",
      "metadata": {
        "id": "DW9KENLvdX-0"
      },
      "source": [
        "theta=t*2*np.pi*freq"
      ],
      "execution_count": 7,
      "outputs": []
    },
    {
      "cell_type": "code",
      "metadata": {
        "id": "Q86NkegmdbS7"
      },
      "source": [
        "s=np.sin(theta)"
      ],
      "execution_count": 8,
      "outputs": []
    },
    {
      "cell_type": "code",
      "metadata": {
        "id": "DDYEZ4eadde8"
      },
      "source": [
        "def phasor(amp,sr,dur,freq):\n",
        "  return s, theta, t"
      ],
      "execution_count": 9,
      "outputs": []
    },
    {
      "cell_type": "code",
      "metadata": {
        "id": "KMiTlHLhdhe9",
        "outputId": "494b18df-e37d-4cdd-9b8d-7305d5ef97cf",
        "colab": {
          "base_uri": "https://localhost:8080/"
        }
      },
      "source": [
        "s= phasor(1,15000,0.5,300.0)\n",
        "print(s)"
      ],
      "execution_count": 10,
      "outputs": [
        {
          "output_type": "stream",
          "text": [
            "(array([ 1.25333234e-01,  2.48689887e-01,  3.68124553e-01, ...,\n",
            "       -2.48689887e-01, -1.25333234e-01, -5.09502587e-14]), array([1.25663706e-01, 2.51327412e-01, 3.76991118e-01, ...,\n",
            "       9.42226469e+02, 9.42352132e+02, 9.42477796e+02]), array([6.66666667e-05, 1.33333333e-04, 2.00000000e-04, ...,\n",
            "       4.99866667e-01, 4.99933333e-01, 5.00000000e-01]))\n"
          ],
          "name": "stdout"
        }
      ]
    }
  ]
}
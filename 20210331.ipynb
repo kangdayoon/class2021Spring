{
  "nbformat": 4,
  "nbformat_minor": 0,
  "metadata": {
    "colab": {
      "name": "20210331.ipynb",
      "provenance": [],
      "authorship_tag": "ABX9TyNf/TLHilUc/69xJrQMBTrE",
      "include_colab_link": true
    },
    "kernelspec": {
      "name": "python3",
      "display_name": "Python 3"
    },
    "language_info": {
      "name": "python"
    }
  },
  "cells": [
    {
      "cell_type": "markdown",
      "metadata": {
        "id": "view-in-github",
        "colab_type": "text"
      },
      "source": [
        "<a href=\"https://colab.research.google.com/github/kangdayoon/class2021Spring/blob/main/20210331.ipynb\" target=\"_parent\"><img src=\"https://colab.research.google.com/assets/colab-badge.svg\" alt=\"Open In Colab\"/></a>"
      ]
    },
    {
      "cell_type": "markdown",
      "metadata": {
        "id": "cHKzVSJq37NO"
      },
      "source": [
        "[a] pitch intensity formant duration \n",
        "\n",
        "    238.1 Hz, 73.42 dB, 1245Hz 4051Hz, 0.531sec\n",
        "\n",
        "[ae] pitch intensity formant duration\n",
        "\n",
        "    225.3 Hz, 59.39 dB, 838.4Hz 2577Hz, 0.441sec"
      ]
    }
  ]
}
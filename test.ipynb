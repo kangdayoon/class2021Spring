{
  "nbformat": 4,
  "nbformat_minor": 0,
  "metadata": {
    "colab": {
      "name": "test.ipynb",
      "provenance": [],
      "authorship_tag": "ABX9TyMb4uTM4QonXC4HBH4zRVI0",
      "include_colab_link": true
    },
    "kernelspec": {
      "name": "python3",
      "display_name": "Python 3"
    }
  },
  "cells": [
    {
      "cell_type": "markdown",
      "metadata": {
        "id": "view-in-github",
        "colab_type": "text"
      },
      "source": [
        "<a href=\"https://colab.research.google.com/github/kangdayoon/class2021Spring/blob/main/test.ipynb\" target=\"_parent\"><img src=\"https://colab.research.google.com/assets/colab-badge.svg\" alt=\"Open In Colab\"/></a>"
      ]
    },
    {
      "cell_type": "code",
      "metadata": {
        "colab": {
          "base_uri": "https://localhost:8080/"
        },
        "id": "EgjjB7-bVsMb",
        "outputId": "d2af3b6c-3442-4a94-fcc8-208728466e4a"
      },
      "source": [
        "a=1\r\n",
        "b=1\r\n",
        "c=a+b\r\n",
        "c"
      ],
      "execution_count": null,
      "outputs": [
        {
          "output_type": "execute_result",
          "data": {
            "text/plain": [
              "2"
            ]
          },
          "metadata": {
            "tags": []
          },
          "execution_count": 1
        }
      ]
    },
    {
      "cell_type": "markdown",
      "metadata": {
        "id": "DAMfQE4gV29Q"
      },
      "source": [
        "우리는 파이썬을 배우게 됩니다."
      ]
    },
    {
      "cell_type": "code",
      "metadata": {
        "id": "lwE3h2mMZWI6",
        "outputId": "52cfce66-182c-48f0-bfc4-68d55742e898",
        "colab": {
          "base_uri": "https://localhost:8080/"
        }
      },
      "source": [
        "a=1\r\n",
        "a"
      ],
      "execution_count": 1,
      "outputs": [
        {
          "output_type": "execute_result",
          "data": {
            "text/plain": [
              "1"
            ]
          },
          "metadata": {
            "tags": []
          },
          "execution_count": 1
        }
      ]
    },
    {
      "cell_type": "markdown",
      "metadata": {
        "id": "WShi5yywWL_s"
      },
      "source": [
        "#파이썬을 어디서 배우나요?\r\n",
        "##Jump to python"
      ]
    },
    {
      "cell_type": "markdown",
      "metadata": {
        "id": "9855PeH8UD8i"
      },
      "source": [
        "# 오늘 배운것: \r\n",
        "## github 계정 만들기, login  해서 repository 만들기 (이름은 class2021Spring)\r\n",
        "\r\n",
        "\r\n",
        "1.   python\r\n",
        "2.   markdown\r\n",
        "\r\n"
      ]
    }
  ]
}
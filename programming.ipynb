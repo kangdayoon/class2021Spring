{
  "nbformat": 4,
  "nbformat_minor": 0,
  "metadata": {
    "colab": {
      "name": "programming.ipynb",
      "provenance": [],
      "authorship_tag": "ABX9TyPHmV87bY4kx30YoEOSyMSp",
      "include_colab_link": true
    },
    "kernelspec": {
      "name": "python3",
      "display_name": "Python 3"
    }
  },
  "cells": [
    {
      "cell_type": "markdown",
      "metadata": {
        "id": "view-in-github",
        "colab_type": "text"
      },
      "source": [
        "<a href=\"https://colab.research.google.com/github/kangdayoon/class2021Spring/blob/main/programming.ipynb\" target=\"_parent\"><img src=\"https://colab.research.google.com/assets/colab-badge.svg\" alt=\"Open In Colab\"/></a>"
      ]
    },
    {
      "cell_type": "markdown",
      "metadata": {
        "id": "sgHbHccNiL0v"
      },
      "source": [
        "## 변수\r\n",
        "단어 + 문법 -> 인간 언어\r\n",
        "컴퓨터 언어에서 '='는 같다라는 표시가 아니라 오른쪽의 내용을 왼쪽에 assign 한다고 생각해야 함.\r\n",
        "내용은 variable을 의미함. 즉, 변수임. \r\n",
        "a = 1 이 단어와 관련된 내용\r\n",
        "\r\n",
        "a = 1\r\n",
        "b = 2\r\n",
        "c = 'love' 일 때, \r\n",
        "a,b,c는 변수 / 오른쪽 값은 내용\r\n",
        "\r\n",
        "## 제어문 \r\n",
        "컴퓨터 언어에서 문법 = 제어문 \r\n",
        "# 1) 반복 : for\r\n",
        "# 2) 조건 : if\r\n",
        "* '=' sign 2개 있으면 정말 같다는 것.\r\n",
        "\r\n",
        "## 함수\r\n",
        "함수 - 입출력 관계\r\n",
        "입력과 출력 사이에 어떠한 변화가 있는 그 상태를 함수라고 한다.\r\n",
        "input -(f)> output\r\n",
        "y = f(x) x는 무조건 입력, y는 x에 대한 출력값\r\n",
        "입출력 관계가 이 세상에 엄청 많음. \r\n",
        "지금 AI는 대부분 y=ax+b라는 일차함수로 이루어져 있다. \r\n",
        "function add (a,b) c=a+b라고 하면\r\n",
        "a=1, b=2라고 되어있을 때 결론을 add(1,2)라고 쓰면 됨. (굳이 a+b를 쓸 필요 없음)\r\n"
      ]
    }
  ]
}